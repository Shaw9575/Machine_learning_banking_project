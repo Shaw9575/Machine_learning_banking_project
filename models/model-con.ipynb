{
 "cells": [
  {
   "cell_type": "code",
   "execution_count": 1,
   "metadata": {},
   "outputs": [],
   "source": [
    "import numpy as np\n",
    "import sys\n",
    "from sklearn.linear_model import LogisticRegression\n",
    "from sklearn.ensemble import AdaBoostClassifier\n",
    "from sklearn.metrics import classification_report, accuracy_score, roc_auc_score, f1_score, roc_curve\n",
    "import matplotlib.pyplot as plt\n",
    "from sklearn.model_selection import StratifiedKFold\n",
    "import eva as evaluation \n",
    "sys.path.append(\"../Preprocessing\")\n",
    "import Prep as prep"
   ]
  },
  {
   "cell_type": "code",
   "execution_count": 2,
   "metadata": {},
   "outputs": [],
   "source": [
    "label = np.loadtxt('../Data/label_enc.csv', delimiter=',', skiprows= 0)\n",
    "train = np.genfromtxt('../Data/train_enc.csv', delimiter=',', skip_header = True)\n",
    "print(train.shape)"
   ]
  },
  {
   "cell_type": "code",
   "execution_count": null,
   "metadata": {},
   "outputs": [],
   "source": [
    "import seaborn as sns\n",
    "import pandas as pd\n",
    "df = pd.read_csv('../Data/train_enc.csv', delimiter=',')\n",
    "sns.heatmap(df.isnull(), cmap=\"YlGnBu\", annot=True, fmt=\"d\")"
   ]
  },
  {
   "cell_type": "code",
   "execution_count": 3,
   "metadata": {},
   "outputs": [],
   "source": [
    "train = prep.missing_point(train)"
   ]
  },
  {
   "cell_type": "code",
   "execution_count": 4,
   "metadata": {},
   "outputs": [
    {
     "name": "stdout",
     "output_type": "stream",
     "text": [
      "(76878, 38)\n"
     ]
    }
   ],
   "source": [
    "x_data, label = prep.mutual_info(train, label)\n",
    "print(x_data.shape)"
   ]
  },
  {
   "cell_type": "code",
   "execution_count": 11,
   "metadata": {},
   "outputs": [],
   "source": [
    "X_train, X_test, y_train, y_test = prep.split_train_test(x_data, label)"
   ]
  },
  {
   "cell_type": "code",
   "execution_count": 6,
   "metadata": {},
   "outputs": [],
   "source": [
    "class_weights = prep.get_weight(y_train)\n",
    "sample_weight = prep.get_sample('balanced',y_train)"
   ]
  },
  {
   "cell_type": "code",
   "execution_count": 7,
   "metadata": {},
   "outputs": [
    {
     "name": "stderr",
     "output_type": "stream",
     "text": [
      "/Users/yuanshuang/anaconda3/lib/python3.7/site-packages/sklearn/neighbors/lof.py:236: FutureWarning: default contamination parameter 0.1 will change in version 0.22 to \"auto\". This will change the predict method behavior.\n",
      "  FutureWarning)\n"
     ]
    },
    {
     "name": "stdout",
     "output_type": "stream",
     "text": [
      "(57658, 38)\n"
     ]
    }
   ],
   "source": [
    "X_train, y_train = prep.Outlier(X_train, y_train)\n",
    "print(X_train.shape)\n",
    "class_weight = {0: class_weights[0], 1: class_weights[1]}"
   ]
  },
  {
   "cell_type": "code",
   "execution_count": 8,
   "metadata": {},
   "outputs": [
    {
     "name": "stderr",
     "output_type": "stream",
     "text": [
      "/Users/yuanshuang/anaconda3/lib/python3.7/site-packages/sklearn/linear_model/logistic.py:433: FutureWarning: Default solver will be changed to 'lbfgs' in 0.22. Specify a solver to silence this warning.\n",
      "  FutureWarning)\n"
     ]
    },
    {
     "name": "stdout",
     "output_type": "stream",
     "text": [
      "acc_train =  0.6910055846543411\n",
      "              precision    recall  f1-score   support\n",
      "\n",
      "     class 1       0.96      0.69      0.81     53475\n",
      "     class 2       0.14      0.65      0.23      4183\n",
      "\n",
      "   micro avg       0.69      0.69      0.69     57658\n",
      "   macro avg       0.55      0.67      0.52     57658\n",
      "weighted avg       0.90      0.69      0.76     57658\n",
      "\n",
      "auc =  0.6714510132901746\n",
      "acc_test =  0.6650884495317377\n",
      "              precision    recall  f1-score   support\n",
      "\n",
      "     class 1       0.96      0.67      0.79     17683\n",
      "     class 2       0.14      0.64      0.23      1537\n",
      "\n",
      "   micro avg       0.67      0.67      0.67     19220\n",
      "   macro avg       0.55      0.65      0.51     19220\n",
      "weighted avg       0.89      0.67      0.74     19220\n",
      "\n",
      "f1 score = 0.7415790638636355\n"
     ]
    },
    {
     "data": {
      "image/png": "[encoded data removed]",
      "text/plain": [
       "<Figure size 432x288 with 1 Axes>"
      ]
     },
     "metadata": {
      "needs_background": "light"
     },
     "output_type": "display_data"
    }
   ],
   "source": [
    "clf = LogisticRegression(class_weight=class_weight).fit(X_train, y_train)\n",
    "y_pred_train = clf.predict(X_train)\n",
    "y_pred_test = clf.predict(X_test)\n",
    "y_prob_pred_test = clf.predict_proba(X_test)\n",
    "evaluation.EVA(y_pred_train,y_train,y_pred_test,y_prob_pred_test,y_test)"
   ]
  },
  {
   "cell_type": "code",
   "execution_count": 9,
   "metadata": {},
   "outputs": [
    {
     "name": "stdout",
     "output_type": "stream",
     "text": [
      "acc_train =  0.9269312150959104\n",
      "              precision    recall  f1-score   support\n",
      "\n",
      "     class 1       0.93      1.00      0.96     53475\n",
      "     class 2       0.42      0.02      0.04      4183\n",
      "\n",
      "   micro avg       0.93      0.93      0.93     57658\n",
      "   macro avg       0.68      0.51      0.50     57658\n",
      "weighted avg       0.89      0.93      0.90     57658\n",
      "\n",
      "auc =  0.5089747220349247\n",
      "acc_test =  0.9196149843912591\n",
      "              precision    recall  f1-score   support\n",
      "\n",
      "     class 1       0.92      1.00      0.96     17683\n",
      "     class 2       0.44      0.02      0.04      1537\n",
      "\n",
      "   micro avg       0.92      0.92      0.92     19220\n",
      "   macro avg       0.68      0.51      0.50     19220\n",
      "weighted avg       0.88      0.92      0.88     19220\n",
      "\n",
      "f1 score = 0.8846182769067007\n"
     ]
    },
    {
     "data": {
      "image/png": "[encoded data removed]",
      "text/plain": [
       "<Figure size 432x288 with 1 Axes>"
      ]
     },
     "metadata": {
      "needs_background": "light"
     },
     "output_type": "display_data"
    }
   ],
   "source": [
    "clf = AdaBoostClassifier(n_estimators=100, learning_rate=0.7)\n",
    "clf.fit(X_train, y_train, sample_weight)\n",
    "y_pred_train = clf.predict(X_train)\n",
    "y_pred_test = clf.predict(X_test)\n",
    "y_prob_pred_test = clf.predict_proba(X_test)\n",
    "evaluation.EVA(y_pred_train,y_train,y_pred_test,y_prob_pred_test,y_test)"
   ]
  },
  {
   "cell_type": "code",
   "execution_count": 10,
   "metadata": {},
   "outputs": [
    {
     "name": "stdout",
     "output_type": "stream",
     "text": [
      "acc_train =  0.7402441985500711\n",
      "              precision    recall  f1-score   support\n",
      "\n",
      "     class 1       0.97      0.75      0.84     53475\n",
      "     class 2       0.17      0.67      0.27      4183\n",
      "\n",
      "   micro avg       0.74      0.74      0.74     57658\n",
      "   macro avg       0.57      0.71      0.56     57658\n",
      "weighted avg       0.91      0.74      0.80     57658\n",
      "\n",
      "auc =  0.7092346176899597\n",
      "acc_test =  0.7078563995837669\n",
      "              precision    recall  f1-score   support\n",
      "\n",
      "     class 1       0.96      0.72      0.82     17683\n",
      "     class 2       0.16      0.61      0.25      1537\n",
      "\n",
      "   micro avg       0.71      0.71      0.71     19220\n",
      "   macro avg       0.56      0.66      0.53     19220\n",
      "weighted avg       0.89      0.71      0.77     19220\n",
      "\n",
      "f1 score = 0.7731599237230794\n"
     ]
    },
    {
     "data": {
      "image/png": "[encoded data removed]",
      "text/plain": [
       "<Figure size 432x288 with 1 Axes>"
      ]
     },
     "metadata": {
      "needs_background": "light"
     },
     "output_type": "display_data"
    }
   ],
   "source": [
    "from sklearn.ensemble import RandomForestClassifier\n",
    "clf = RandomForestClassifier(n_estimators=32, max_depth=8,class_weight=class_weight).fit(X_train, y_train)\n",
    "y_pred_train = clf.predict(X_train)\n",
    "y_pred_test = clf.predict(X_test)\n",
    "y_prob_pred_test = clf.predict_proba(X_test)\n",
    "evaluation.EVA(y_pred_train,y_train,y_pred_test,y_prob_pred_test,y_test)"
   ]
  },
  {
   "cell_type": "code",
   "execution_count": 12,
   "metadata": {},
   "outputs": [
    {
     "name": "stderr",
     "output_type": "stream",
     "text": [
      "/Users/yuanshuang/anaconda3/lib/python3.7/site-packages/sklearn/ensemble/forest.py:246: FutureWarning: The default value of n_estimators will change from 10 in version 0.20 to 100 in 0.22.\n",
      "  \"10 in version 0.20 to 100 in 0.22.\", FutureWarning)\n"
     ]
    },
    {
     "name": "stdout",
     "output_type": "stream",
     "text": [
      "(76878, 184)\n"
     ]
    }
   ],
   "source": [
    "x_data, label = prep.ExtraTrees(train, label)\n",
    "print(x_data.shape)"
   ]
  },
  {
   "cell_type": "code",
   "execution_count": 13,
   "metadata": {},
   "outputs": [],
   "source": [
    "X_train, X_test, y_train, y_test = prep.split_train_test(x_data, label)"
   ]
  },
  {
   "cell_type": "code",
   "execution_count": 14,
   "metadata": {},
   "outputs": [],
   "source": [
    "class_weights = prep.get_weight(y_train)\n",
    "sample_weight = prep.get_sample('balanced',y_train)\n",
    "class_weight = {0: class_weights[0], 1: class_weights[1]}"
   ]
  },
  {
   "cell_type": "code",
   "execution_count": 15,
   "metadata": {},
   "outputs": [
    {
     "name": "stderr",
     "output_type": "stream",
     "text": [
      "/Users/yuanshuang/anaconda3/lib/python3.7/site-packages/sklearn/neighbors/lof.py:236: FutureWarning: default contamination parameter 0.1 will change in version 0.22 to \"auto\". This will change the predict method behavior.\n",
      "  FutureWarning)\n"
     ]
    },
    {
     "name": "stdout",
     "output_type": "stream",
     "text": [
      "(57658, 184)\n"
     ]
    }
   ],
   "source": [
    "X_train, y_train = prep.Outlier(X_train, y_train)\n",
    "print(X_train.shape)"
   ]
  },
  {
   "cell_type": "code",
   "execution_count": 16,
   "metadata": {},
   "outputs": [
    {
     "name": "stderr",
     "output_type": "stream",
     "text": [
      "/Users/yuanshuang/anaconda3/lib/python3.7/site-packages/sklearn/linear_model/logistic.py:433: FutureWarning: Default solver will be changed to 'lbfgs' in 0.22. Specify a solver to silence this warning.\n",
      "  FutureWarning)\n",
      "/Users/yuanshuang/anaconda3/lib/python3.7/site-packages/sklearn/svm/base.py:922: ConvergenceWarning: Liblinear failed to converge, increase the number of iterations.\n",
      "  \"the number of iterations.\", ConvergenceWarning)\n"
     ]
    },
    {
     "name": "stdout",
     "output_type": "stream",
     "text": [
      "acc_train =  0.6637066842415623\n",
      "              precision    recall  f1-score   support\n",
      "\n",
      "     class 1       0.96      0.66      0.79     53565\n",
      "     class 2       0.13      0.65      0.22      4093\n",
      "\n",
      "   micro avg       0.66      0.66      0.66     57658\n",
      "   macro avg       0.55      0.66      0.50     57658\n",
      "weighted avg       0.90      0.66      0.75     57658\n",
      "\n",
      "auc =  0.6572134218448424\n",
      "acc_test =  0.622216441207076\n",
      "              precision    recall  f1-score   support\n",
      "\n",
      "     class 1       0.95      0.62      0.75     17670\n",
      "     class 2       0.12      0.61      0.21      1550\n",
      "\n",
      "   micro avg       0.62      0.62      0.62     19220\n",
      "   macro avg       0.54      0.62      0.48     19220\n",
      "weighted avg       0.88      0.62      0.71     19220\n",
      "\n",
      "f1 score = 0.708099440179371\n"
     ]
    },
    {
     "data": {
      "image/png": "[encoded data removed]",
      "text/plain": [
       "<Figure size 432x288 with 1 Axes>"
      ]
     },
     "metadata": {
      "needs_background": "light"
     },
     "output_type": "display_data"
    }
   ],
   "source": [
    "clf = LogisticRegression(class_weight=class_weight).fit(X_train, y_train)\n",
    "y_pred_train = clf.predict(X_train)\n",
    "y_pred_test = clf.predict(X_test)\n",
    "y_prob_pred_test = clf.predict_proba(X_test)\n",
    "evaluation.EVA(y_pred_train,y_train,y_pred_test,y_prob_pred_test,y_test)"
   ]
  },
  {
   "cell_type": "code",
   "execution_count": 17,
   "metadata": {},
   "outputs": [
    {
     "name": "stdout",
     "output_type": "stream",
     "text": [
      "acc_train =  0.92941135662007\n",
      "              precision    recall  f1-score   support\n",
      "\n",
      "     class 1       0.93      1.00      0.96     53565\n",
      "     class 2       0.55      0.03      0.06      4093\n",
      "\n",
      "   micro avg       0.93      0.93      0.93     57658\n",
      "   macro avg       0.74      0.52      0.51     57658\n",
      "weighted avg       0.90      0.93      0.90     57658\n",
      "\n",
      "auc =  0.5154461121864471\n",
      "acc_test =  0.9182622268470343\n",
      "              precision    recall  f1-score   support\n",
      "\n",
      "     class 1       0.92      1.00      0.96     17670\n",
      "     class 2       0.41      0.03      0.06      1550\n",
      "\n",
      "   micro avg       0.92      0.92      0.92     19220\n",
      "   macro avg       0.67      0.51      0.51     19220\n",
      "weighted avg       0.88      0.92      0.88     19220\n",
      "\n",
      "f1 score = 0.8849889544961538\n"
     ]
    },
    {
     "data": {
      "image/png": "[encoded data removed]",
      "text/plain": [
       "<Figure size 432x288 with 1 Axes>"
      ]
     },
     "metadata": {
      "needs_background": "light"
     },
     "output_type": "display_data"
    }
   ],
   "source": [
    "clf = AdaBoostClassifier(n_estimators=100, learning_rate=0.7)\n",
    "clf.fit(X_train, y_train, sample_weight)\n",
    "y_pred_train = clf.predict(X_train)\n",
    "y_pred_test = clf.predict(X_test)\n",
    "y_prob_pred_test = clf.predict_proba(X_test)\n",
    "evaluation.EVA(y_pred_train,y_train,y_pred_test,y_prob_pred_test,y_test)"
   ]
  },
  {
   "cell_type": "code",
   "execution_count": 18,
   "metadata": {},
   "outputs": [
    {
     "name": "stdout",
     "output_type": "stream",
     "text": [
      "acc_train =  0.8016060217142461\n",
      "              precision    recall  f1-score   support\n",
      "\n",
      "     class 1       0.97      0.81      0.88     53565\n",
      "     class 2       0.22      0.68      0.33      4093\n",
      "\n",
      "   micro avg       0.80      0.80      0.80     57658\n",
      "   macro avg       0.59      0.75      0.61     57658\n",
      "weighted avg       0.92      0.80      0.84     57658\n",
      "\n",
      "auc =  0.7459861291344212\n",
      "acc_test =  0.7569198751300729\n",
      "              precision    recall  f1-score   support\n",
      "\n",
      "     class 1       0.95      0.78      0.85     17670\n",
      "     class 2       0.17      0.51      0.25      1550\n",
      "\n",
      "   micro avg       0.76      0.76      0.76     19220\n",
      "   macro avg       0.56      0.64      0.55     19220\n",
      "weighted avg       0.88      0.76      0.81     19220\n",
      "\n",
      "f1 score = 0.8062495226080836\n"
     ]
    },
    {
     "data": {
      "image/png": "[encoded data removed]",
      "text/plain": [
       "<Figure size 432x288 with 1 Axes>"
      ]
     },
     "metadata": {
      "needs_background": "light"
     },
     "output_type": "display_data"
    }
   ],
   "source": [
    "from sklearn.ensemble import RandomForestClassifier\n",
    "clf = RandomForestClassifier(n_estimators=32, max_depth=8,class_weight=class_weight).fit(X_train, y_train)\n",
    "y_pred_train = clf.predict(X_train)\n",
    "y_pred_test = clf.predict(X_test)\n",
    "y_prob_pred_test = clf.predict_proba(X_test)\n",
    "evaluation.EVA(y_pred_train,y_train,y_pred_test,y_prob_pred_test,y_test)"
   ]
  },
  {
   "cell_type": "code",
   "execution_count": 19,
   "metadata": {},
   "outputs": [
    {
     "name": "stdout",
     "output_type": "stream",
     "text": [
      "(76878, 38)\n"
     ]
    },
    {
     "name": "stderr",
     "output_type": "stream",
     "text": [
      "/Users/yuanshuang/anaconda3/lib/python3.7/site-packages/sklearn/feature_selection/univariate_selection.py:114: UserWarning: Features [ 22 106 145 149 237 250 334 336 341 371 373 374] are constant.\n",
      "  UserWarning)\n",
      "/Users/yuanshuang/anaconda3/lib/python3.7/site-packages/sklearn/feature_selection/univariate_selection.py:115: RuntimeWarning: invalid value encountered in true_divide\n",
      "  f = msb / msw\n"
     ]
    }
   ],
   "source": [
    "x_data, label = prep.fclassif(train, label)\n",
    "print(x_data.shape)"
   ]
  },
  {
   "cell_type": "code",
   "execution_count": 20,
   "metadata": {},
   "outputs": [],
   "source": [
    "X_train, X_test, y_train, y_test = prep.split_train_test(x_data, label)"
   ]
  },
  {
   "cell_type": "code",
   "execution_count": 21,
   "metadata": {},
   "outputs": [],
   "source": [
    "class_weights = prep.get_weight(y_train)\n",
    "sample_weight = prep.get_sample('balanced',y_train)\n",
    "class_weight = {0: class_weights[0], 1: class_weights[1]}"
   ]
  },
  {
   "cell_type": "code",
   "execution_count": 22,
   "metadata": {},
   "outputs": [
    {
     "name": "stderr",
     "output_type": "stream",
     "text": [
      "/Users/yuanshuang/anaconda3/lib/python3.7/site-packages/sklearn/neighbors/lof.py:236: FutureWarning: default contamination parameter 0.1 will change in version 0.22 to \"auto\". This will change the predict method behavior.\n",
      "  FutureWarning)\n"
     ]
    },
    {
     "name": "stdout",
     "output_type": "stream",
     "text": [
      "(57658, 38)\n"
     ]
    }
   ],
   "source": [
    "X_train, y_train = prep.Outlier(X_train, y_train)\n",
    "print(X_train.shape)"
   ]
  },
  {
   "cell_type": "code",
   "execution_count": 23,
   "metadata": {},
   "outputs": [
    {
     "name": "stderr",
     "output_type": "stream",
     "text": [
      "/Users/yuanshuang/anaconda3/lib/python3.7/site-packages/sklearn/linear_model/logistic.py:433: FutureWarning: Default solver will be changed to 'lbfgs' in 0.22. Specify a solver to silence this warning.\n",
      "  FutureWarning)\n"
     ]
    },
    {
     "name": "stdout",
     "output_type": "stream",
     "text": [
      "acc_train =  0.6902077768913247\n",
      "              precision    recall  f1-score   support\n",
      "\n",
      "     class 1       0.96      0.69      0.81     53560\n",
      "     class 2       0.14      0.65      0.23      4098\n",
      "\n",
      "   micro avg       0.69      0.69      0.69     57658\n",
      "   macro avg       0.55      0.67      0.52     57658\n",
      "weighted avg       0.90      0.69      0.77     57658\n",
      "\n",
      "auc =  0.6726899649768134\n",
      "acc_test =  0.6651404786680541\n",
      "              precision    recall  f1-score   support\n",
      "\n",
      "     class 1       0.95      0.67      0.78     17609\n",
      "     class 2       0.15      0.65      0.25      1611\n",
      "\n",
      "   micro avg       0.67      0.67      0.67     19220\n",
      "   macro avg       0.55      0.66      0.51     19220\n",
      "weighted avg       0.89      0.67      0.74     19220\n",
      "\n",
      "f1 score = 0.7396113661827877\n"
     ]
    },
    {
     "data": {
      "image/png": "[encoded data removed]",
      "text/plain": [
       "<Figure size 432x288 with 1 Axes>"
      ]
     },
     "metadata": {
      "needs_background": "light"
     },
     "output_type": "display_data"
    }
   ],
   "source": [
    "clf = LogisticRegression(class_weight=class_weight).fit(X_train, y_train)\n",
    "y_pred_train = clf.predict(X_train)\n",
    "y_pred_test = clf.predict(X_test)\n",
    "y_prob_pred_test = clf.predict_proba(X_test)\n",
    "evaluation.EVA(y_pred_train,y_train,y_pred_test,y_prob_pred_test,y_test)"
   ]
  },
  {
   "cell_type": "code",
   "execution_count": 24,
   "metadata": {},
   "outputs": [
    {
     "name": "stdout",
     "output_type": "stream",
     "text": [
      "acc_train =  0.9289604217974956\n",
      "              precision    recall  f1-score   support\n",
      "\n",
      "     class 1       0.93      1.00      0.96     53560\n",
      "     class 2       0.50      0.03      0.06      4098\n",
      "\n",
      "   micro avg       0.93      0.93      0.93     57658\n",
      "   macro avg       0.72      0.51      0.51     57658\n",
      "weighted avg       0.90      0.93      0.90     57658\n",
      "\n",
      "auc =  0.5137650709229552\n",
      "acc_test =  0.9162851196670135\n",
      "              precision    recall  f1-score   support\n",
      "\n",
      "     class 1       0.92      1.00      0.96     17609\n",
      "     class 2       0.51      0.03      0.06      1611\n",
      "\n",
      "   micro avg       0.92      0.92      0.92     19220\n",
      "   macro avg       0.71      0.51      0.51     19220\n",
      "weighted avg       0.88      0.92      0.88     19220\n",
      "\n",
      "f1 score = 0.8808620721784962\n"
     ]
    },
    {
     "data": {
      "image/png": "[encoded data removed]",
      "text/plain": [
       "<Figure size 432x288 with 1 Axes>"
      ]
     },
     "metadata": {
      "needs_background": "light"
     },
     "output_type": "display_data"
    }
   ],
   "source": [
    "clf = AdaBoostClassifier(n_estimators=100, learning_rate=0.7)\n",
    "clf.fit(X_train, y_train, sample_weight)\n",
    "y_pred_train = clf.predict(X_train)\n",
    "y_pred_test = clf.predict(X_test)\n",
    "y_prob_pred_test = clf.predict_proba(X_test)\n",
    "evaluation.EVA(y_pred_train,y_train,y_pred_test,y_prob_pred_test,y_test)"
   ]
  },
  {
   "cell_type": "code",
   "execution_count": 25,
   "metadata": {},
   "outputs": [
    {
     "name": "stdout",
     "output_type": "stream",
     "text": [
      "acc_train =  0.766120919907038\n",
      "              precision    recall  f1-score   support\n",
      "\n",
      "     class 1       0.97      0.77      0.86     53560\n",
      "     class 2       0.19      0.68      0.29      4098\n",
      "\n",
      "   micro avg       0.77      0.77      0.77     57658\n",
      "   macro avg       0.58      0.73      0.58     57658\n",
      "weighted avg       0.91      0.77      0.82     57658\n",
      "\n",
      "auc =  0.7269590559667533\n",
      "acc_test =  0.7316857440166493\n",
      "              precision    recall  f1-score   support\n",
      "\n",
      "     class 1       0.95      0.74      0.84     17609\n",
      "     class 2       0.18      0.61      0.27      1611\n",
      "\n",
      "   micro avg       0.73      0.73      0.73     19220\n",
      "   macro avg       0.57      0.67      0.55     19220\n",
      "weighted avg       0.89      0.73      0.79     19220\n",
      "\n",
      "f1 score = 0.7883877200765411\n"
     ]
    },
    {
     "data": {
      "image/png": "[encoded data removed]",
      "text/plain": [
       "<Figure size 432x288 with 1 Axes>"
      ]
     },
     "metadata": {
      "needs_background": "light"
     },
     "output_type": "display_data"
    }
   ],
   "source": [
    "from sklearn.ensemble import RandomForestClassifier\n",
    "clf = RandomForestClassifier(n_estimators=32, max_depth=8,class_weight=class_weight).fit(X_train, y_train)\n",
    "y_pred_train = clf.predict(X_train)\n",
    "y_pred_test = clf.predict(X_test)\n",
    "y_prob_pred_test = clf.predict_proba(X_test)\n",
    "evaluation.EVA(y_pred_train,y_train,y_pred_test,y_prob_pred_test,y_test)"
   ]
  },
  {
   "cell_type": "code",
   "execution_count": null,
   "metadata": {},
   "outputs": [],
   "source": []
  }
 ],
 "metadata": {
  "kernelspec": {
   "display_name": "Python 3",
   "language": "python",
   "name": "python3"
  },
  "language_info": {
   "codemirror_mode": {
    "name": "ipython",
    "version": 3
   },
   "file_extension": ".py",
   "mimetype": "text/x-python",
   "name": "python",
   "nbconvert_exporter": "python",
   "pygments_lexer": "ipython3",
   "version": "3.7.0"
  }
 },
 "nbformat": 4,
 "nbformat_minor": 2
}
