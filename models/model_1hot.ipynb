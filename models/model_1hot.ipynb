{
 "cells": [
  {
   "cell_type": "code",
   "execution_count": 3,
   "metadata": {},
   "outputs": [],
   "source": [
    "import numpy as np\n",
    "import sys\n",
    "from sklearn.linear_model import LogisticRegression\n",
    "from sklearn.ensemble import AdaBoostClassifier\n",
    "from sklearn.metrics import classification_report, accuracy_score, roc_auc_score, f1_score, roc_curve\n",
    "import matplotlib.pyplot as plt\n",
    "from sklearn.model_selection import StratifiedKFold\n",
    "import eva as evaluation \n",
    "sys.path.append(\"../Preprocessing\")\n",
    "import Prep as prep"
   ]
  },
  {
   "cell_type": "code",
   "execution_count": 4,
   "metadata": {},
   "outputs": [],
   "source": [
    "label = np.loadtxt('../Data/label.csv', delimiter=',', skiprows= 0)\n",
    "train = np.genfromtxt('../Data/train.csv', delimiter=',', skip_header = True)\n",
    "print(train.shape)"
   ]
  },
  {
   "cell_type": "code",
   "execution_count": null,
   "metadata": {},
   "outputs": [],
   "source": [
    "import seaborn as sns\n",
    "import pandas as pd\n",
    "df = pd.read_csv('../Data/train.csv', delimiter=',')\n",
    "sns.heatmap(df.isnull(), cmap=\"YlGnBu\", annot=True, fmt=\"d\")"
   ]
  },
  {
   "cell_type": "code",
   "execution_count": 5,
   "metadata": {},
   "outputs": [],
   "source": [
    "train = prep.missing_point(train)"
   ]
  },
  {
   "cell_type": "code",
   "execution_count": 6,
   "metadata": {},
   "outputs": [
    {
     "name": "stdout",
     "output_type": "stream",
     "text": [
      "(76878, 51)\n"
     ]
    }
   ],
   "source": [
    "x_data, label = prep.mutual_info(train, label)\n",
    "print(x_data.shape)"
   ]
  },
  {
   "cell_type": "code",
   "execution_count": 7,
   "metadata": {},
   "outputs": [],
   "source": [
    "X_train, X_test, y_train, y_test = prep.split_train_test(x_data, label)"
   ]
  },
  {
   "cell_type": "code",
   "execution_count": 8,
   "metadata": {},
   "outputs": [],
   "source": [
    "class_weights = prep.get_weight(y_train)"
   ]
  },
  {
   "cell_type": "code",
   "execution_count": 9,
   "metadata": {},
   "outputs": [],
   "source": [
    "sample_weight = prep.get_sample('balanced',y_train)"
   ]
  },
  {
   "cell_type": "code",
   "execution_count": 10,
   "metadata": {},
   "outputs": [],
   "source": [
    "X_train = prep.StdScaler(X_train)\n",
    "X_test = prep.StdScaler(X_test)"
   ]
  },
  {
   "cell_type": "code",
   "execution_count": 11,
   "metadata": {},
   "outputs": [
    {
     "name": "stderr",
     "output_type": "stream",
     "text": [
      "/Users/yuanshuang/anaconda3/lib/python3.7/site-packages/sklearn/neighbors/lof.py:236: FutureWarning: default contamination parameter 0.1 will change in version 0.22 to \"auto\". This will change the predict method behavior.\n",
      "  FutureWarning)\n"
     ]
    },
    {
     "name": "stdout",
     "output_type": "stream",
     "text": [
      "(57658, 51)\n"
     ]
    }
   ],
   "source": [
    "X_train, y_train = prep.Outlier(X_train, y_train)\n",
    "print(X_train.shape)"
   ]
  },
  {
   "cell_type": "code",
   "execution_count": 12,
   "metadata": {},
   "outputs": [],
   "source": [
    "class_weight = {0: class_weights[0], 1: class_weights[1]}"
   ]
  },
  {
   "cell_type": "code",
   "execution_count": 13,
   "metadata": {},
   "outputs": [
    {
     "name": "stderr",
     "output_type": "stream",
     "text": [
      "/Users/yuanshuang/anaconda3/lib/python3.7/site-packages/sklearn/linear_model/logistic.py:433: FutureWarning: Default solver will be changed to 'lbfgs' in 0.22. Specify a solver to silence this warning.\n",
      "  FutureWarning)\n"
     ]
    },
    {
     "name": "stdout",
     "output_type": "stream",
     "text": [
      "acc_train =  0.7533386520517534\n",
      "              precision    recall  f1-score   support\n",
      "\n",
      "     class 1       0.96      0.76      0.85     53597\n",
      "     class 2       0.17      0.63      0.27      4061\n",
      "\n",
      "   micro avg       0.75      0.75      0.75     57658\n",
      "   macro avg       0.57      0.70      0.56     57658\n",
      "weighted avg       0.91      0.75      0.81     57658\n",
      "\n",
      "auc =  0.6970895827547196\n",
      "acc_test =  0.7215920915712799\n",
      "              precision    recall  f1-score   support\n",
      "\n",
      "     class 1       0.96      0.73      0.83     17704\n",
      "     class 2       0.16      0.60      0.26      1516\n",
      "\n",
      "   micro avg       0.72      0.72      0.72     19220\n",
      "   macro avg       0.56      0.67      0.54     19220\n",
      "weighted avg       0.89      0.72      0.78     19220\n",
      "\n",
      "f1 score = 0.7835566440753728\n"
     ]
    },
    {
     "data": {
      "image/png": "[encoded data removed]",
      "text/plain": [
       "<Figure size 432x288 with 1 Axes>"
      ]
     },
     "metadata": {
      "needs_background": "light"
     },
     "output_type": "display_data"
    }
   ],
   "source": [
    "clf = LogisticRegression(class_weight=class_weight).fit(X_train, y_train)\n",
    "y_pred_train = clf.predict(X_train)\n",
    "y_pred_test = clf.predict(X_test)\n",
    "y_prob_pred_test = clf.predict_proba(X_test)\n",
    "evaluation.EVA(y_pred_train,y_train,y_pred_test,y_prob_pred_test,y_test)"
   ]
  },
  {
   "cell_type": "code",
   "execution_count": 16,
   "metadata": {},
   "outputs": [
    {
     "name": "stdout",
     "output_type": "stream",
     "text": [
      "acc_train =  0.9290644836796281\n",
      "              precision    recall  f1-score   support\n",
      "\n",
      "     class 1       0.93      1.00      0.96     53597\n",
      "     class 2       0.44      0.02      0.05      4061\n",
      "\n",
      "   micro avg       0.93      0.93      0.93     57658\n",
      "   macro avg       0.68      0.51      0.50     57658\n",
      "weighted avg       0.90      0.93      0.90     57658\n",
      "\n",
      "auc =  0.5109950192967694\n",
      "acc_test =  0.9210718002081165\n",
      "              precision    recall  f1-score   support\n",
      "\n",
      "     class 1       0.92      1.00      0.96     17704\n",
      "     class 2       0.49      0.02      0.05      1516\n",
      "\n",
      "   micro avg       0.92      0.92      0.92     19220\n",
      "   macro avg       0.71      0.51      0.50     19220\n",
      "weighted avg       0.89      0.92      0.89     19220\n",
      "\n",
      "f1 score = 0.8868716534392506\n"
     ]
    },
    {
     "data": {
      "image/png": "[encoded data removed]",
      "text/plain": [
       "<Figure size 432x288 with 1 Axes>"
      ]
     },
     "metadata": {
      "needs_background": "light"
     },
     "output_type": "display_data"
    }
   ],
   "source": [
    "clf = AdaBoostClassifier(n_estimators=100, learning_rate=0.7)\n",
    "clf.fit(X_train, y_train, sample_weight)\n",
    "y_pred_train = clf.predict(X_train)\n",
    "y_pred_test = clf.predict(X_test)\n",
    "y_prob_pred_test = clf.predict_proba(X_test)\n",
    "evaluation.EVA(y_pred_train,y_train,y_pred_test,y_prob_pred_test,y_test)"
   ]
  },
  {
   "cell_type": "code",
   "execution_count": 17,
   "metadata": {},
   "outputs": [
    {
     "name": "stdout",
     "output_type": "stream",
     "text": [
      "acc_train =  0.7792674043497867\n",
      "              precision    recall  f1-score   support\n",
      "\n",
      "     class 1       0.97      0.79      0.87     53597\n",
      "     class 2       0.20      0.69      0.31      4061\n",
      "\n",
      "   micro avg       0.78      0.78      0.78     57658\n",
      "   macro avg       0.58      0.74      0.59     57658\n",
      "weighted avg       0.92      0.78      0.83     57658\n",
      "\n",
      "auc =  0.737208764634012\n",
      "acc_test =  0.7508324661810614\n",
      "              precision    recall  f1-score   support\n",
      "\n",
      "     class 1       0.95      0.77      0.85     17704\n",
      "     class 2       0.17      0.55      0.26      1516\n",
      "\n",
      "   micro avg       0.75      0.75      0.75     19220\n",
      "   macro avg       0.56      0.66      0.55     19220\n",
      "weighted avg       0.89      0.75      0.80     19220\n",
      "\n",
      "f1 score = 0.8035361709437118\n"
     ]
    },
    {
     "data": {
      "image/png": "[encoded data removed]",
      "text/plain": [
       "<Figure size 432x288 with 1 Axes>"
      ]
     },
     "metadata": {
      "needs_background": "light"
     },
     "output_type": "display_data"
    }
   ],
   "source": [
    "from sklearn.ensemble import RandomForestClassifier\n",
    "clf = RandomForestClassifier(n_estimators=32, max_depth=8,class_weight=class_weight).fit(X_train, y_train)\n",
    "y_pred_train = clf.predict(X_train)\n",
    "y_pred_test = clf.predict(X_test)\n",
    "y_prob_pred_test = clf.predict_proba(X_test)\n",
    "evaluation.EVA(y_pred_train,y_train,y_pred_test,y_prob_pred_test,y_test)"
   ]
  },
  {
   "cell_type": "code",
   "execution_count": 18,
   "metadata": {},
   "outputs": [
    {
     "name": "stderr",
     "output_type": "stream",
     "text": [
      "/Users/yuanshuang/anaconda3/lib/python3.7/site-packages/sklearn/ensemble/forest.py:246: FutureWarning: The default value of n_estimators will change from 10 in version 0.20 to 100 in 0.22.\n",
      "  \"10 in version 0.20 to 100 in 0.22.\", FutureWarning)\n"
     ]
    },
    {
     "name": "stdout",
     "output_type": "stream",
     "text": [
      "(76878, 227)\n"
     ]
    }
   ],
   "source": [
    "x_data, label = prep.ExtraTrees(train, label)\n",
    "print(x_data.shape)"
   ]
  },
  {
   "cell_type": "code",
   "execution_count": 19,
   "metadata": {},
   "outputs": [],
   "source": [
    "X_train, X_test, y_train, y_test = prep.split_train_test(x_data, label)"
   ]
  },
  {
   "cell_type": "code",
   "execution_count": 20,
   "metadata": {},
   "outputs": [],
   "source": [
    "class_weights = prep.get_weight(y_train)\n",
    "sample_weight = prep.get_sample('balanced',y_train)"
   ]
  },
  {
   "cell_type": "code",
   "execution_count": 21,
   "metadata": {},
   "outputs": [],
   "source": [
    "X_train = prep.StdScaler(X_train)\n",
    "X_test = prep.StdScaler(X_test)"
   ]
  },
  {
   "cell_type": "code",
   "execution_count": 22,
   "metadata": {},
   "outputs": [
    {
     "name": "stderr",
     "output_type": "stream",
     "text": [
      "/Users/yuanshuang/anaconda3/lib/python3.7/site-packages/sklearn/neighbors/lof.py:236: FutureWarning: default contamination parameter 0.1 will change in version 0.22 to \"auto\". This will change the predict method behavior.\n",
      "  FutureWarning)\n"
     ]
    },
    {
     "name": "stdout",
     "output_type": "stream",
     "text": [
      "(57658, 227)\n"
     ]
    }
   ],
   "source": [
    "X_train, y_train = prep.Outlier(X_train, y_train)\n",
    "print(X_train.shape)"
   ]
  },
  {
   "cell_type": "code",
   "execution_count": 23,
   "metadata": {},
   "outputs": [],
   "source": [
    "class_weight = {0: class_weights[0], 1: class_weights[1]}"
   ]
  },
  {
   "cell_type": "code",
   "execution_count": 24,
   "metadata": {},
   "outputs": [
    {
     "name": "stderr",
     "output_type": "stream",
     "text": [
      "/Users/yuanshuang/anaconda3/lib/python3.7/site-packages/sklearn/linear_model/logistic.py:433: FutureWarning: Default solver will be changed to 'lbfgs' in 0.22. Specify a solver to silence this warning.\n",
      "  FutureWarning)\n"
     ]
    },
    {
     "name": "stdout",
     "output_type": "stream",
     "text": [
      "acc_train =  0.7569981615734157\n",
      "              precision    recall  f1-score   support\n",
      "\n",
      "     class 1       0.97      0.76      0.85     53604\n",
      "     class 2       0.17      0.65      0.27      4054\n",
      "\n",
      "   micro avg       0.76      0.76      0.76     57658\n",
      "   macro avg       0.57      0.71      0.56     57658\n",
      "weighted avg       0.91      0.76      0.81     57658\n",
      "\n",
      "auc =  0.7086738183099164\n",
      "acc_test =  0.7274193548387097\n",
      "              precision    recall  f1-score   support\n",
      "\n",
      "     class 1       0.96      0.74      0.83     17666\n",
      "     class 2       0.17      0.63      0.27      1554\n",
      "\n",
      "   micro avg       0.73      0.73      0.73     19220\n",
      "   macro avg       0.57      0.68      0.55     19220\n",
      "weighted avg       0.89      0.73      0.79     19220\n",
      "\n",
      "f1 score = 0.7870288111760856\n"
     ]
    },
    {
     "data": {
      "image/png": "[encoded data removed]",
      "text/plain": [
       "<Figure size 432x288 with 1 Axes>"
      ]
     },
     "metadata": {
      "needs_background": "light"
     },
     "output_type": "display_data"
    }
   ],
   "source": [
    "clf = LogisticRegression(class_weight=class_weight).fit(X_train, y_train)\n",
    "y_pred_train = clf.predict(X_train)\n",
    "y_pred_test = clf.predict(X_test)\n",
    "y_prob_pred_test = clf.predict_proba(X_test)\n",
    "evaluation.EVA(y_pred_train,y_train,y_pred_test,y_prob_pred_test,y_test)"
   ]
  },
  {
   "cell_type": "code",
   "execution_count": 25,
   "metadata": {},
   "outputs": [
    {
     "name": "stdout",
     "output_type": "stream",
     "text": [
      "acc_train =  0.9289257345034514\n",
      "              precision    recall  f1-score   support\n",
      "\n",
      "     class 1       0.93      1.00      0.96     53604\n",
      "     class 2       0.44      0.04      0.08      4054\n",
      "\n",
      "   micro avg       0.93      0.93      0.93     57658\n",
      "   macro avg       0.69      0.52      0.52     57658\n",
      "weighted avg       0.90      0.93      0.90     57658\n",
      "\n",
      "auc =  0.5187428119020194\n",
      "acc_test =  0.9185744016649323\n",
      "              precision    recall  f1-score   support\n",
      "\n",
      "     class 1       0.92      1.00      0.96     17666\n",
      "     class 2       0.44      0.03      0.05      1554\n",
      "\n",
      "   micro avg       0.92      0.92      0.92     19220\n",
      "   macro avg       0.68      0.51      0.51     19220\n",
      "weighted avg       0.88      0.92      0.88     19220\n",
      "\n",
      "f1 score = 0.8843485449963208\n"
     ]
    },
    {
     "data": {
      "image/png": "[encoded data removed]",
      "text/plain": [
       "<Figure size 432x288 with 1 Axes>"
      ]
     },
     "metadata": {
      "needs_background": "light"
     },
     "output_type": "display_data"
    }
   ],
   "source": [
    "clf = AdaBoostClassifier(n_estimators=100, learning_rate=0.7)\n",
    "clf.fit(X_train, y_train, sample_weight)\n",
    "y_pred_train = clf.predict(X_train)\n",
    "y_pred_test = clf.predict(X_test)\n",
    "y_prob_pred_test = clf.predict_proba(X_test)\n",
    "evaluation.EVA(y_pred_train,y_train,y_pred_test,y_prob_pred_test,y_test)"
   ]
  },
  {
   "cell_type": "code",
   "execution_count": 26,
   "metadata": {},
   "outputs": [
    {
     "name": "stdout",
     "output_type": "stream",
     "text": [
      "acc_train =  0.8212043428492143\n",
      "              precision    recall  f1-score   support\n",
      "\n",
      "     class 1       0.97      0.83      0.90     53604\n",
      "     class 2       0.24      0.69      0.35      4054\n",
      "\n",
      "   micro avg       0.82      0.82      0.82     57658\n",
      "   macro avg       0.60      0.76      0.62     57658\n",
      "weighted avg       0.92      0.82      0.86     57658\n",
      "\n",
      "auc =  0.7621300378624852\n",
      "acc_test =  0.7892819979188346\n",
      "              precision    recall  f1-score   support\n",
      "\n",
      "     class 1       0.95      0.82      0.88     17666\n",
      "     class 2       0.19      0.47      0.27      1554\n",
      "\n",
      "   micro avg       0.79      0.79      0.79     19220\n",
      "   macro avg       0.57      0.65      0.57     19220\n",
      "weighted avg       0.88      0.79      0.83     19220\n",
      "\n",
      "f1 score = 0.8276435980920523\n"
     ]
    },
    {
     "data": {
      "image/png": "[encoded data removed]",
      "text/plain": [
       "<Figure size 432x288 with 1 Axes>"
      ]
     },
     "metadata": {
      "needs_background": "light"
     },
     "output_type": "display_data"
    }
   ],
   "source": [
    "from sklearn.ensemble import RandomForestClassifier\n",
    "clf = RandomForestClassifier(n_estimators=32, max_depth=8,class_weight=class_weight).fit(X_train, y_train)\n",
    "y_pred_train = clf.predict(X_train)\n",
    "y_pred_test = clf.predict(X_test)\n",
    "y_prob_pred_test = clf.predict_proba(X_test)\n",
    "evaluation.EVA(y_pred_train,y_train,y_pred_test,y_prob_pred_test,y_test)"
   ]
  },
  {
   "cell_type": "code",
   "execution_count": 27,
   "metadata": {},
   "outputs": [
    {
     "name": "stdout",
     "output_type": "stream",
     "text": [
      "(76878, 51)\n"
     ]
    },
    {
     "name": "stderr",
     "output_type": "stream",
     "text": [
      "/Users/yuanshuang/anaconda3/lib/python3.7/site-packages/sklearn/feature_selection/univariate_selection.py:114: UserWarning: Features [ 13 127 129 133 234 318 320 325 355 357 358 368 382 397] are constant.\n",
      "  UserWarning)\n",
      "/Users/yuanshuang/anaconda3/lib/python3.7/site-packages/sklearn/feature_selection/univariate_selection.py:115: RuntimeWarning: invalid value encountered in true_divide\n",
      "  f = msb / msw\n"
     ]
    }
   ],
   "source": [
    "x_data, label = prep.fclassif(train, label)\n",
    "print(x_data.shape)"
   ]
  },
  {
   "cell_type": "code",
   "execution_count": null,
   "metadata": {},
   "outputs": [],
   "source": [
    "x_data, label = prep.fclassif(train, label)\n",
    "print(x_data.shape)"
   ]
  },
  {
   "cell_type": "code",
   "execution_count": 28,
   "metadata": {},
   "outputs": [],
   "source": [
    "X_train, X_test, y_train, y_test = prep.split_train_test(x_data, label)"
   ]
  },
  {
   "cell_type": "code",
   "execution_count": 29,
   "metadata": {},
   "outputs": [],
   "source": [
    "class_weights = prep.get_weight(y_train)\n",
    "sample_weight = prep.get_sample('balanced',y_train)"
   ]
  },
  {
   "cell_type": "code",
   "execution_count": 30,
   "metadata": {},
   "outputs": [],
   "source": [
    "X_train = prep.StdScaler(X_train)\n",
    "X_test = prep.StdScaler(X_test)"
   ]
  },
  {
   "cell_type": "code",
   "execution_count": 31,
   "metadata": {},
   "outputs": [
    {
     "name": "stderr",
     "output_type": "stream",
     "text": [
      "/Users/yuanshuang/anaconda3/lib/python3.7/site-packages/sklearn/neighbors/lof.py:236: FutureWarning: default contamination parameter 0.1 will change in version 0.22 to \"auto\". This will change the predict method behavior.\n",
      "  FutureWarning)\n"
     ]
    },
    {
     "name": "stdout",
     "output_type": "stream",
     "text": [
      "(57658, 51)\n"
     ]
    }
   ],
   "source": [
    "X_train, y_train = prep.Outlier(X_train, y_train)\n",
    "print(X_train.shape)"
   ]
  },
  {
   "cell_type": "code",
   "execution_count": 32,
   "metadata": {},
   "outputs": [],
   "source": [
    "class_weight = {0: class_weights[0], 1: class_weights[1]}"
   ]
  },
  {
   "cell_type": "code",
   "execution_count": 33,
   "metadata": {},
   "outputs": [
    {
     "name": "stderr",
     "output_type": "stream",
     "text": [
      "/Users/yuanshuang/anaconda3/lib/python3.7/site-packages/sklearn/linear_model/logistic.py:433: FutureWarning: Default solver will be changed to 'lbfgs' in 0.22. Specify a solver to silence this warning.\n",
      "  FutureWarning)\n"
     ]
    },
    {
     "name": "stdout",
     "output_type": "stream",
     "text": [
      "acc_train =  0.7536508376981512\n",
      "              precision    recall  f1-score   support\n",
      "\n",
      "     class 1       0.96      0.76      0.85     53613\n",
      "     class 2       0.17      0.63      0.26      4045\n",
      "\n",
      "   micro avg       0.75      0.75      0.75     57658\n",
      "   macro avg       0.57      0.69      0.56     57658\n",
      "weighted avg       0.91      0.75      0.81     57658\n",
      "\n",
      "auc =  0.6949643483743555\n",
      "acc_test =  0.7235171696149844\n",
      "              precision    recall  f1-score   support\n",
      "\n",
      "     class 1       0.96      0.73      0.83     17713\n",
      "     class 2       0.16      0.62      0.26      1507\n",
      "\n",
      "   micro avg       0.72      0.72      0.72     19220\n",
      "   macro avg       0.56      0.68      0.54     19220\n",
      "weighted avg       0.90      0.72      0.79     19220\n",
      "\n",
      "f1 score = 0.7852985059236367\n"
     ]
    },
    {
     "data": {
      "image/png": "[encoded data removed]",
      "text/plain": [
       "<Figure size 432x288 with 1 Axes>"
      ]
     },
     "metadata": {
      "needs_background": "light"
     },
     "output_type": "display_data"
    }
   ],
   "source": [
    "clf = LogisticRegression(class_weight=class_weight).fit(X_train, y_train)\n",
    "y_pred_train = clf.predict(X_train)\n",
    "y_pred_test = clf.predict(X_test)\n",
    "y_prob_pred_test = clf.predict_proba(X_test)\n",
    "evaluation.EVA(y_pred_train,y_train,y_pred_test,y_prob_pred_test,y_test)"
   ]
  },
  {
   "cell_type": "code",
   "execution_count": 34,
   "metadata": {},
   "outputs": [
    {
     "name": "stdout",
     "output_type": "stream",
     "text": [
      "acc_train =  0.9296194803843352\n",
      "              precision    recall  f1-score   support\n",
      "\n",
      "     class 1       0.93      1.00      0.96     53613\n",
      "     class 2       0.47      0.03      0.05      4045\n",
      "\n",
      "   micro avg       0.93      0.93      0.93     57658\n",
      "   macro avg       0.70      0.51      0.51     57658\n",
      "weighted avg       0.90      0.93      0.90     57658\n",
      "\n",
      "auc =  0.512335640233743\n",
      "acc_test =  0.9211758584807492\n",
      "              precision    recall  f1-score   support\n",
      "\n",
      "     class 1       0.92      1.00      0.96     17713\n",
      "     class 2       0.45      0.02      0.05      1507\n",
      "\n",
      "   micro avg       0.92      0.92      0.92     19220\n",
      "   macro avg       0.69      0.51      0.50     19220\n",
      "weighted avg       0.89      0.92      0.89     19220\n",
      "\n",
      "f1 score = 0.8872633702366965\n"
     ]
    },
    {
     "data": {
      "image/png": "[encoded data removed]",
      "text/plain": [
       "<Figure size 432x288 with 1 Axes>"
      ]
     },
     "metadata": {
      "needs_background": "light"
     },
     "output_type": "display_data"
    }
   ],
   "source": [
    "clf = AdaBoostClassifier(n_estimators=100, learning_rate=0.7)\n",
    "clf.fit(X_train, y_train, sample_weight)\n",
    "y_pred_train = clf.predict(X_train)\n",
    "y_pred_test = clf.predict(X_test)\n",
    "y_prob_pred_test = clf.predict_proba(X_test)\n",
    "evaluation.EVA(y_pred_train,y_train,y_pred_test,y_prob_pred_test,y_test)"
   ]
  },
  {
   "cell_type": "code",
   "execution_count": 35,
   "metadata": {},
   "outputs": [
    {
     "name": "stdout",
     "output_type": "stream",
     "text": [
      "acc_train =  0.7987443199556002\n",
      "              precision    recall  f1-score   support\n",
      "\n",
      "     class 1       0.97      0.81      0.88     53613\n",
      "     class 2       0.21      0.69      0.32      4045\n",
      "\n",
      "   micro avg       0.80      0.80      0.80     57658\n",
      "   macro avg       0.59      0.75      0.60     57658\n",
      "weighted avg       0.92      0.80      0.84     57658\n",
      "\n",
      "auc =  0.7469830401307802\n",
      "acc_test =  0.7736732570239334\n",
      "              precision    recall  f1-score   support\n",
      "\n",
      "     class 1       0.95      0.80      0.87     17713\n",
      "     class 2       0.17      0.50      0.26      1507\n",
      "\n",
      "   micro avg       0.77      0.77      0.77     19220\n",
      "   macro avg       0.56      0.65      0.56     19220\n",
      "weighted avg       0.89      0.77      0.82     19220\n",
      "\n",
      "f1 score = 0.8187228580471567\n"
     ]
    },
    {
     "data": {
      "image/png": "[encoded data removed]",
      "text/plain": [
       "<Figure size 432x288 with 1 Axes>"
      ]
     },
     "metadata": {
      "needs_background": "light"
     },
     "output_type": "display_data"
    }
   ],
   "source": [
    "from sklearn.ensemble import RandomForestClassifier\n",
    "clf = RandomForestClassifier(n_estimators=32, max_depth=8,class_weight=class_weight).fit(X_train, y_train)\n",
    "y_pred_train = clf.predict(X_train)\n",
    "y_pred_test = clf.predict(X_test)\n",
    "y_prob_pred_test = clf.predict_proba(X_test)\n",
    "evaluation.EVA(y_pred_train,y_train,y_pred_test,y_prob_pred_test,y_test)"
   ]
  },
  {
   "cell_type": "code",
   "execution_count": null,
   "metadata": {},
   "outputs": [],
   "source": []
  }
 ],
 "metadata": {
  "kernelspec": {
   "display_name": "Python 3",
   "language": "python",
   "name": "python3"
  },
  "language_info": {
   "codemirror_mode": {
    "name": "ipython",
    "version": 3
   },
   "file_extension": ".py",
   "mimetype": "text/x-python",
   "name": "python",
   "nbconvert_exporter": "python",
   "pygments_lexer": "ipython3",
   "version": "3.7.0"
  }
 },
 "nbformat": 4,
 "nbformat_minor": 2
}
